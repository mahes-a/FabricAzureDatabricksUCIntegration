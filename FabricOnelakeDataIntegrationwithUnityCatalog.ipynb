{
 "cells": [
  {
   "cell_type": "markdown",
   "metadata": {
    "application/vnd.databricks.v1+cell": {
     "cellMetadata": {},
     "inputWidgets": {},
     "nuid": "93f288b3-37e7-40a5-a5b0-5d6ab04e714d",
     "showTitle": false,
     "title": ""
    }
   },
   "source": [
    "## Fill up the configuration values "
   ]
  },
  {
   "cell_type": "code",
   "execution_count": 0,
   "metadata": {
    "application/vnd.databricks.v1+cell": {
     "cellMetadata": {
      "byteLimit": 2048000,
      "rowLimit": 10000
     },
     "inputWidgets": {},
     "nuid": "c9b09773-ad1c-4bbd-b130-fc95ba689484",
     "showTitle": false,
     "title": ""
    }
   },
   "outputs": [],
   "source": [
    "\n",
    "#fabric workspaceid\n",
    "workspace_id = \"\"\n",
    "#fabric warehouseid\n",
    "warehouse_id = \"\"\n",
    "\n",
    "#read from Key vault for data security \n",
    "tenant_id = \"\"\n",
    "service_principal_id = \"\"\n",
    "\n",
    "service_principal_password = \"\"\n",
    "\n",
    "configs = {\n",
    "    \"fs.azure.account.auth.type\": \"OAuth\",\n",
    "    \"fs.azure.account.oauth.provider.type\": \"org.apache.hadoop.fs.azurebfs.oauth2.ClientCredsTokenProvider\",\n",
    "    \"fs.azure.account.oauth2.client.id\": service_principal_id,\n",
    "    \"fs.azure.account.oauth2.client.secret\": service_principal_password,\n",
    "    \"fs.azure.account.oauth2.client.endpoint\": f\"https://login.microsoftonline.com/{tenant_id}/oauth2/token\"\n",
    "}\n",
    "\n",
    "\n"
   ]
  },
  {
   "cell_type": "markdown",
   "metadata": {
    "application/vnd.databricks.v1+cell": {
     "cellMetadata": {},
     "inputWidgets": {},
     "nuid": "81e57f9f-eb6b-4eae-982f-3b7b8a83c777",
     "showTitle": false,
     "title": ""
    }
   },
   "source": [
    "# Create a mount for OneLake\n",
    "### Note: Databricks doesn’t recommend using mount points, service principals or credential passthrough; instead, Unity Catalog is suggested. This is a temporary solution until Unity catalog  OneLake direct integration is completed , creating external locations (+volumes) to OneLake are not yet possible."
   ]
  },
  {
   "cell_type": "code",
   "execution_count": 0,
   "metadata": {
    "application/vnd.databricks.v1+cell": {
     "cellMetadata": {},
     "inputWidgets": {},
     "nuid": "d7edb934-0b36-4164-9896-c505972cb1ab",
     "showTitle": false,
     "title": ""
    }
   },
   "outputs": [],
   "source": [
    "mount_point = \"/mnt/onelake-warehouse\"\n",
    "dbutils.fs.mount(\n",
    "    source = f\"abfss://{workspace_id}@onelake.dfs.fabric.microsoft.com\",\n",
    "    mount_point = mount_point,\n",
    "    extra_configs = configs\n",
    ")"
   ]
  },
  {
   "cell_type": "markdown",
   "metadata": {
    "application/vnd.databricks.v1+cell": {
     "cellMetadata": {},
     "inputWidgets": {},
     "nuid": "a8512c1f-52c5-48e8-a219-0535a6f3b926",
     "showTitle": false,
     "title": ""
    }
   },
   "source": [
    "### read the mirrored tables from Fabric warehouse , sample shown here for one table"
   ]
  },
  {
   "cell_type": "code",
   "execution_count": 0,
   "metadata": {
    "application/vnd.databricks.v1+cell": {
     "cellMetadata": {
      "byteLimit": 2048000,
      "rowLimit": 10000
     },
     "inputWidgets": {},
     "nuid": "a2ed98a8-5230-4b6c-9bc2-fe3b20ce0ab0",
     "showTitle": false,
     "title": ""
    }
   },
   "outputs": [],
   "source": [
    "# read with mount spn update the table name here  to your table name\n",
    "df = spark.read.format(\"delta\").load(f\"/mnt/onelake-warehouse/{warehouse_id}/Tables/<tablename>/\")\n",
    "display(df)\n",
    "df.createOrReplaceTempView(\"fromfabrictablenameTest\")\n"
   ]
  },
  {
   "cell_type": "markdown",
   "metadata": {
    "application/vnd.databricks.v1+cell": {
     "cellMetadata": {},
     "inputWidgets": {},
     "nuid": "675c221f-6049-424a-878b-ce09787b665c",
     "showTitle": false,
     "title": ""
    }
   },
   "source": [
    "### create a unity catalog catalog"
   ]
  },
  {
   "cell_type": "code",
   "execution_count": 0,
   "metadata": {
    "application/vnd.databricks.v1+cell": {
     "cellMetadata": {
      "byteLimit": 2048000,
      "implicitDf": true,
      "rowLimit": 10000
     },
     "inputWidgets": {},
     "nuid": "96541fcc-4396-4799-9fbc-28df9b12dadf",
     "showTitle": false,
     "title": ""
    }
   },
   "outputs": [],
   "source": [
    "%sql\n",
    "-- create a new catalog\n",
    "CREATE CATALOG IF NOT EXISTS fabric_catalog;"
   ]
  },
  {
   "cell_type": "markdown",
   "metadata": {
    "application/vnd.databricks.v1+cell": {
     "cellMetadata": {},
     "inputWidgets": {},
     "nuid": "b611fc34-47af-41a0-8eb8-b9f9975146dd",
     "showTitle": false,
     "title": ""
    }
   },
   "source": [
    "%md\n",
    "### create a unity catalog Schema"
   ]
  },
  {
   "cell_type": "code",
   "execution_count": 0,
   "metadata": {
    "application/vnd.databricks.v1+cell": {
     "cellMetadata": {
      "byteLimit": 2048000,
      "implicitDf": true,
      "rowLimit": 10000
     },
     "inputWidgets": {},
     "nuid": "0a328b79-a1a5-4894-a70b-9fdcb75c567b",
     "showTitle": false,
     "title": ""
    }
   },
   "outputs": [],
   "source": [
    "%sql\n",
    "CREATE SCHEMA IF NOT EXISTS FabrictoDBX_schema\n",
    "COMMENT \"A new Unity Catalog schema called FabrictoDBX_schema\";"
   ]
  },
  {
   "cell_type": "markdown",
   "metadata": {
    "application/vnd.databricks.v1+cell": {
     "cellMetadata": {},
     "inputWidgets": {},
     "nuid": "2e5b4ccd-348d-4664-bdb5-2d2794830666",
     "showTitle": false,
     "title": ""
    }
   },
   "source": [
    "### create the table in the unity catalog schema as external table if needed, Ensure to create the external location and location credetials in unity catalog to enable external table storage "
   ]
  },
  {
   "cell_type": "code",
   "execution_count": 0,
   "metadata": {
    "application/vnd.databricks.v1+cell": {
     "cellMetadata": {
      "byteLimit": 2048000,
      "implicitDf": true,
      "rowLimit": 10000
     },
     "inputWidgets": {},
     "nuid": "375f56c5-9a5a-465f-8b4d-56003cb3b735",
     "showTitle": false,
     "title": ""
    }
   },
   "outputs": [],
   "source": [
    "%sql\n",
    "--update the external storage location and the table name\n",
    "CREATE OR REPLACE TABLE fabric_catalog.fabrictodbx_schema.BronzefromfabrictablenameTest\n",
    "USING delta\n",
    "LOCATION 'abfss://<<containername@storageaccount.dfs.core.windows.net>>/BronzefromfabrictablenameTest'\n",
    "select * from fromfabrictablenameTest ;"
   ]
  },
  {
   "cell_type": "markdown",
   "metadata": {
    "application/vnd.databricks.v1+cell": {
     "cellMetadata": {},
     "inputWidgets": {},
     "nuid": "572a4643-aa91-4ff0-8223-faec9fcf6951",
     "showTitle": false,
     "title": ""
    }
   },
   "source": [
    "### create a unity catalog Schema"
   ]
  },
  {
   "cell_type": "code",
   "execution_count": 0,
   "metadata": {
    "application/vnd.databricks.v1+cell": {
     "cellMetadata": {
      "byteLimit": 2048000,
      "implicitDf": true,
      "rowLimit": 10000
     },
     "inputWidgets": {},
     "nuid": "5c755b8b-36f8-490e-97fd-b7121aa7ab89",
     "showTitle": false,
     "title": ""
    }
   },
   "outputs": [],
   "source": [
    "%sql\n",
    "--- Create a new schema in the quick_start catalog\n",
    "CREATE SCHEMA IF NOT EXISTS dbxtoFabric_schema\n",
    "COMMENT \"A new Unity Catalog schema called dbxtoFabric_schema\";"
   ]
  },
  {
   "cell_type": "markdown",
   "metadata": {
    "application/vnd.databricks.v1+cell": {
     "cellMetadata": {},
     "inputWidgets": {},
     "nuid": "321c97c0-9e57-4c24-ae89-e5a9824a6c60",
     "showTitle": false,
     "title": ""
    }
   },
   "source": [
    "### Curate the mirrored data from fabric and create silver and gold tables"
   ]
  },
  {
   "cell_type": "code",
   "execution_count": 0,
   "metadata": {
    "application/vnd.databricks.v1+cell": {
     "cellMetadata": {
      "byteLimit": 2048000,
      "rowLimit": 10000
     },
     "inputWidgets": {},
     "nuid": "d8d13943-8a14-4b8b-bead-6f8e7dd9e848",
     "showTitle": false,
     "title": ""
    }
   },
   "outputs": [],
   "source": [
    "from pyspark.sql.functions import lit\n",
    "\n",
    "df_silver = spark.read.format(\"delta\").table(\"fabric_catalog.fabrictodbx_schema.BronzefromfabrictablenameTest\")\\\n",
    "  .withColumn(\"fomdbx\", lit('dbxucshortcut'))\\\n",
    "  .createOrReplaceTempView(\"silvertabletofabric\")"
   ]
  },
  {
   "cell_type": "markdown",
   "metadata": {
    "application/vnd.databricks.v1+cell": {
     "cellMetadata": {},
     "inputWidgets": {},
     "nuid": "624b48e5-9b07-4fb3-90d5-660f633b7666",
     "showTitle": false,
     "title": ""
    }
   },
   "source": [
    "### create a curated table from the Fabric mirrored table in the unity catalog schema as external table Ensure to create the external location and location credetials in unity catalog to enable external table storage "
   ]
  },
  {
   "cell_type": "code",
   "execution_count": 0,
   "metadata": {
    "application/vnd.databricks.v1+cell": {
     "cellMetadata": {
      "byteLimit": 2048000,
      "implicitDf": true,
      "rowLimit": 10000
     },
     "inputWidgets": {},
     "nuid": "95ba8847-5cff-48f1-a599-869fea37c6c2",
     "showTitle": false,
     "title": ""
    }
   },
   "outputs": [],
   "source": [
    "%sql\n",
    "--update the external storage location\n",
    "CREATE OR REPLACE TABLE  fabric_catalog.dbxtofabric_schema.SilverTableTest\n",
    "USING delta\n",
    "LOCATION 'abfss://<<containername@storageaccount.dfs.core.windows.net>>/SilverfabrictablenameTest'\n",
    "select * from silvertabletofabric ;"
   ]
  }
 ],
 "metadata": {
  "application/vnd.databricks.v1+notebook": {
   "dashboards": [],
   "language": "python",
   "notebookMetadata": {
    "mostRecentlyExecutedCommandWithImplicitDF": {
     "commandId": 936980177199831,
     "dataframes": [
      "_sqldf"
     ]
    },
    "pythonIndentUnit": 4
   },
   "notebookName": "FabricOnelakeDataIntegrationwithUnityCatalog",
   "widgets": {}
  }
 },
 "nbformat": 4,
 "nbformat_minor": 0
}
